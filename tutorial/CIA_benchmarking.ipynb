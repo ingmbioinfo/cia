{
 "cells": [
  {
   "cell_type": "markdown",
   "metadata": {},
   "source": [
    "# CIA BENCHMARKING"
   ]
  },
  {
   "cell_type": "markdown",
   "metadata": {},
   "source": [
    "## Description"
   ]
  },
  {
   "cell_type": "markdown",
   "metadata": {},
   "source": [
    "In this notebook we compared **CIA** with **other classification tools** among the most valid and compatible with Scanpy workflow:\n",
    "- **Celltypist** (*Domínguez et al., Science, 2022* [[1]](https://www.science.org/doi/10.1126/science.abl5197)) which, exploiting a **combined approach based on Logistic Regression and Stocastic Gradient Descent**, extracts the most revelevant feature of **each cluster of the training set** and **trains a classification model**. \n",
    "- **Besca** auto_annot module (*Mädler et al., NAR Genomics and Bioinformatics, 2021* [[2]](https://doi.org/10.1093/nargab/lqab102)), which can be run with **Logistic Regression** (LR) or **Support Vector Machine** (SVM) algorithms."
   ]
  },
  {
   "cell_type": "code",
   "execution_count": null,
   "metadata": {},
   "outputs": [],
   "source": [
    "import numpy as np\n",
    "import pandas as pd\n",
    "import scanpy as sc\n",
    "import seaborn as sns\n",
    "import multiprocessing\n",
    "from functools import partial\n",
    "from scipy.sparse import issparse\n",
    "from scipy import sparse\n",
    "import time\n",
    "from sklearn import metrics\n",
    "from scipy import sparse\n",
    "from cia import investigate, report, external\n",
    "import pickle\n",
    "import celltypist\n",
    "import besca as bc"
   ]
  },
  {
   "cell_type": "markdown",
   "metadata": {},
   "source": [
    "## Training dataset"
   ]
  },
  {
   "cell_type": "markdown",
   "metadata": {},
   "source": [
    "We **trained all the classifiers** with *Hao et al., 2021* [[3]](https://www.sciencedirect.com/science/article/pii/S0092867421005833) **PBMC atlas**, the same from which we extracted the gene signatures in [CIA workflow tutorial](../workflow/Cluster_Independent_Annotation.ipynb). "
   ]
  },
  {
   "cell_type": "code",
   "execution_count": null,
   "metadata": {},
   "outputs": [],
   "source": [
    "# To download the dataset (2.536 GB) \n",
    "!wget https://datasets.cellxgene.cziscience.com/b0381820-6536-487a-85d2-b5994ae0f1c8.h5ad -O data/b0381820-6536-487a-85d2-b5994ae0f1c8.h5ad\n"
   ]
  },
  {
   "cell_type": "code",
   "execution_count": null,
   "metadata": {
    "scrolled": true
   },
   "outputs": [],
   "source": [
    "# to read the atlas data\n",
    "adata= sc.read('data/b0381820-6536-487a-85d2-b5994ae0f1c8.h5ad')\n",
    "# to start from a count matrix\n",
    "adata.X = adata.layers['corrected_counts']\n",
    "# to normalize the data\n",
    "sc.pp.normalize_total(adata, target_sum=1e4)\n",
    "sc.pp.log1p(adata)\n",
    "# to set AnnData.raw attribute\n",
    "adata.raw= adata\n",
    "# to remove 'other T' cells\n",
    "adata=adata[adata.obs['celltype.l1']!='other T']\n",
    "adata.obs['Cell type']=adata.obs['celltype.l1']\n",
    "# to rename clusters\n",
    "adata.obs['Cell type']=adata.obs['Cell type'].cat.rename_categories(['B', 'CD4 T', 'CD8 T', 'DC', 'Mono', 'NK', 'Platelet'])\n",
    "adata.uns['Cell type_colors']=['#1f77b4', '#ff7f0e', '#2ca02c', '#d62728', '#9467bd', '#8c564b', '#e377c2']\n",
    "adata"
   ]
  },
  {
   "cell_type": "markdown",
   "metadata": {},
   "source": [
    "For standardization purposes and because of **Celltypist strict requirements**, we rescaled counts from 0 to 10000 for each cell and we log transformed the resulting values, accordingly with [Scanpy tutorial](https://scanpy-tutorials.readthedocs.io/en/latest/pbmc3k.html). "
   ]
  },
  {
   "cell_type": "code",
   "execution_count": null,
   "metadata": {},
   "outputs": [],
   "source": [
    "sc.set_figure_params(scanpy=True, dpi=50)"
   ]
  },
  {
   "cell_type": "code",
   "execution_count": null,
   "metadata": {},
   "outputs": [],
   "source": [
    "sc.pl.umap(adata, color='Cell type')"
   ]
  },
  {
   "cell_type": "markdown",
   "metadata": {},
   "source": [
    "## Test dataset"
   ]
  },
  {
   "cell_type": "markdown",
   "metadata": {},
   "source": [
    "We **fitted the trained model of each classifier on** [PBMC3K](https://scanpy.readthedocs.io/en/stable/generated/scanpy.datasets.pbmc3k.html) from *Satija et al., 2015* [[4]](https://www.nature.com/articles/nbt.3192), and we compared the performances of classification with CIA ones. "
   ]
  },
  {
   "cell_type": "markdown",
   "metadata": {},
   "source": [
    "NB.: The test dataset was normalized in the very same way of the training dataset."
   ]
  },
  {
   "cell_type": "code",
   "execution_count": null,
   "metadata": {},
   "outputs": [],
   "source": [
    "pbmc3k=sc.read('data/pbmc3k_classified.h5ad')"
   ]
  },
  {
   "cell_type": "markdown",
   "metadata": {},
   "source": [
    "## Cell level classification"
   ]
  },
  {
   "cell_type": "markdown",
   "metadata": {},
   "source": [
    "Since, like CIA, **Celltypist and Besca** allow to **automatically classify datasets cell-by-cell**, without requiring the clustering step, we challanged both classifiers at single cell level."
   ]
  },
  {
   "cell_type": "markdown",
   "metadata": {},
   "source": [
    "### Celltypist"
   ]
  },
  {
   "cell_type": "code",
   "execution_count": null,
   "metadata": {},
   "outputs": [],
   "source": [
    "# To train Celltypist with PBMC atlas feature and ground truth labels ('Cell type' obs).\n",
    "\n",
    "# COMPUTATIONALLY HEAVY! results have been stored in 'data/model_atlas.pkl'.\n",
    "#new_model = celltypist.train(adata.raw.to_adata(), labels = 'Cell type', n_jobs = 32, feature_selection = True)\n",
    "\n",
    "# To load trained model\n",
    "new_model=celltypist.Model.load('data/model_atlas_no_other_t.pkl')\n",
    "new_model"
   ]
  },
  {
   "cell_type": "code",
   "execution_count": null,
   "metadata": {
    "scrolled": true
   },
   "outputs": [],
   "source": [
    "# To fit the model and predict pbmc3k cell identities.\n",
    "predictions = celltypist.annotate(pbmc3k.raw.to_adata(), model = new_model)\n",
    "end=time.time()"
   ]
  },
  {
   "cell_type": "code",
   "execution_count": null,
   "metadata": {},
   "outputs": [],
   "source": [
    "pbmc3k.obs['Prediction celltypist']=predictions.predicted_labels"
   ]
  },
  {
   "cell_type": "code",
   "execution_count": null,
   "metadata": {},
   "outputs": [],
   "source": [
    "sc.pl.umap(pbmc3k, color=['Cell type', 'Prediction fast mode','Prediction p-val','Prediction celltypist'], wspace=0.5)"
   ]
  },
  {
   "cell_type": "markdown",
   "metadata": {},
   "source": [
    "### Besca"
   ]
  },
  {
   "cell_type": "code",
   "execution_count": null,
   "metadata": {},
   "outputs": [],
   "source": [
    "# to train Besca Logistic Regression model and perform feature selection\n",
    "adata_train, adata_test_corrected = bc.tl.auto_annot.merge_data([adata], pbmc3k, genes_to_use = 'all', merge = 'scanorama')"
   ]
  },
  {
   "cell_type": "code",
   "execution_count": null,
   "metadata": {},
   "outputs": [],
   "source": [
    "classifier, scaler = bc.tl.auto_annot.fit(adata_train, method='logistic_regression', celltype='Cell type',celltype_variable='Cell type', njobs=32)\n",
    "bc.tl.auto_annot.adata_predict(classifier = classifier, adata_pred = adata_test_corrected, adata_orig=pbmc3k,\n",
    "                               threshold =0.1, scaler=scaler)\n",
    "pbmc3k.obs['Prediction besca LR']=pbmc3k.obs['auto_annot']\n",
    "del pbmc3k.obs['auto_annot']"
   ]
  },
  {
   "cell_type": "code",
   "execution_count": null,
   "metadata": {},
   "outputs": [],
   "source": [
    "# to train Besca SVM model and perform feature selection\n",
    "\n",
    "# COMPUTATIONALLY HEAVY, results of this chunk have been already saved in pbmc3k.obs['auto_annot']\n",
    "\n",
    "classifier, scaler = bc.tl.auto_annot.fit(adata_train, method='linear', celltype='Cell type', celltype_variable='Cell type', njobs=32)\n",
    "bc.tl.auto_annot.adata_predict(classifier = classifier, adata_pred = adata_test_corrected, adata_orig=pbmc3k, \n",
    "                                threshold =0.1, scaler=scaler)\n",
    "pbmc3k.obs['Prediction besca SVM']=pbmc3k.obs['auto_annot']\n",
    "del pbmc3k.obs['auto_annot']"
   ]
  },
  {
   "cell_type": "code",
   "execution_count": null,
   "metadata": {},
   "outputs": [],
   "source": [
    "sc.pl.umap(pbmc3k, color=['Cell type','Prediction fast mode','Prediction p-val', 'Prediction besca LR','Prediction besca SVM'], wspace=0.5)"
   ]
  },
  {
   "cell_type": "markdown",
   "metadata": {},
   "source": [
    "### Performances"
   ]
  },
  {
   "cell_type": "code",
   "execution_count": null,
   "metadata": {
    "scrolled": true
   },
   "outputs": [],
   "source": [
    "report.classification_metrics(pbmc3k, classification_obs=['Prediction fast mode',\n",
    "                                                         'Prediction p-val', 'Prediction celltypist',\n",
    "                                                         'Prediction besca LR','Prediction besca SVM'], groups_obs='Cell type')"
   ]
  },
  {
   "cell_type": "markdown",
   "metadata": {},
   "source": [
    "Notably, **CIA fast mode prediction was the best one**, followed by the computationally heavier Besca SVM prediction and CIA p-val mode (which are comparable)."
   ]
  },
  {
   "cell_type": "markdown",
   "metadata": {},
   "source": [
    "## Over-clustering driven approach"
   ]
  },
  {
   "cell_type": "markdown",
   "metadata": {},
   "source": [
    "**Celltypist** has an interesting feature called **'majority voting'**, which consists of the refinement of cell identities within local subclusters after an **over-clustering step**. Basically, **for each subcluster**, the **label of the most abundant cell type is extended** to the whole cell group.\n",
    "This is an **additional step that goes beyond the CIA workflow**, but since we wanted to compare the results at the best possible conditions of classification, we wrote ***celltypist_majority_vote*** function (**external module**) to reproduce the 'majority voting' approach."
   ]
  },
  {
   "cell_type": "markdown",
   "metadata": {},
   "source": [
    "To be more clear, **each of the cell-level classifications were matched with those 68 clusters** (small groups of very similar cells) and at each mini-cluster was assigned the most abundant cell type label."
   ]
  },
  {
   "cell_type": "code",
   "execution_count": null,
   "metadata": {
    "scrolled": false
   },
   "outputs": [],
   "source": [
    "sc.pl.umap(pbmc3k, color='leiden_5')"
   ]
  },
  {
   "cell_type": "markdown",
   "metadata": {},
   "source": [
    "### Celltypist majority voting"
   ]
  },
  {
   "cell_type": "code",
   "execution_count": null,
   "metadata": {
    "scrolled": true
   },
   "outputs": [],
   "source": [
    "# To run Celltypist with majority voting\n",
    "predictions = celltypist.annotate(pbmc3k.raw.to_adata(), model = new_model, majority_voting=True)"
   ]
  },
  {
   "cell_type": "code",
   "execution_count": null,
   "metadata": {},
   "outputs": [],
   "source": [
    "pbmc3k.obs['Prediction celltypist majority voting']=predictions.predicted_labels['majority_voting']"
   ]
  },
  {
   "cell_type": "code",
   "execution_count": null,
   "metadata": {},
   "outputs": [],
   "source": [
    "sc.pl.umap(pbmc3k, color=['Cell type','Prediction celltypist majority voting'], wspace=0.6)"
   ]
  },
  {
   "cell_type": "markdown",
   "metadata": {},
   "source": [
    "### Majority voting embedded in CIA"
   ]
  },
  {
   "cell_type": "code",
   "execution_count": null,
   "metadata": {},
   "outputs": [],
   "source": [
    "# To replicate the majority voting step on CIA annotations exploiting celltypist_majority_vote.\n",
    "colnames=['Prediction fast mode', 'Prediction p-val', 'Prediction q','Prediction standard mode']\n",
    "external.celltypist_majority_vote(pbmc3k,classification_obs=colnames)"
   ]
  },
  {
   "cell_type": "code",
   "execution_count": null,
   "metadata": {},
   "outputs": [],
   "source": [
    "colnames_mv=['Cell type','Prediction fast mode majority voting', 'Prediction p-val majority voting',\n",
    "            'Prediction q majority voting', 'Prediction standard mode majority voting']"
   ]
  },
  {
   "cell_type": "code",
   "execution_count": null,
   "metadata": {
    "scrolled": true
   },
   "outputs": [],
   "source": [
    "sc.pl.umap(pbmc3k, color=colnames_mv, wspace=0.4)"
   ]
  },
  {
   "cell_type": "markdown",
   "metadata": {},
   "source": [
    "### Majority voting applied to Besca"
   ]
  },
  {
   "cell_type": "code",
   "execution_count": null,
   "metadata": {},
   "outputs": [],
   "source": [
    "colnames=['Prediction besca LR','Prediction besca SVM']\n",
    "external.celltypist_majority_vote(pbmc3k,classification_obs=colnames)"
   ]
  },
  {
   "cell_type": "code",
   "execution_count": null,
   "metadata": {},
   "outputs": [],
   "source": [
    "colnames_mv=['Cell type','Prediction besca LR majority voting', 'Prediction besca SVM majority voting']"
   ]
  },
  {
   "cell_type": "code",
   "execution_count": null,
   "metadata": {},
   "outputs": [],
   "source": [
    "pbmc3k.uns['Prediction besca SVM majority voting_colors']=['#fb9a99', '#b2df8a', '#1f78b4', '#d62728', '#6fadfd', '#E4D00A',\n",
    "       '#FF5733', '#762a83']"
   ]
  },
  {
   "cell_type": "code",
   "execution_count": null,
   "metadata": {
    "scrolled": true
   },
   "outputs": [],
   "source": [
    "sc.pl.umap(pbmc3k, color=colnames_mv, wspace=0.6)"
   ]
  },
  {
   "cell_type": "markdown",
   "metadata": {},
   "source": [
    "### Performances"
   ]
  },
  {
   "cell_type": "code",
   "execution_count": null,
   "metadata": {
    "scrolled": false
   },
   "outputs": [],
   "source": [
    "report.classification_metrics(pbmc3k, classification_obs=['Prediction celltypist majority voting', 'Prediction fast mode majority voting', 'Prediction p-val majority voting', \n",
    "             'Prediction besca LR majority voting','Prediction besca SVM majority voting'], groups_obs='Cell type')"
   ]
  },
  {
   "cell_type": "markdown",
   "metadata": {},
   "source": [
    "Notably, **all the classifications** resulted to have a **very high F1-score**. However, **CIA performed the best classifications** also after the majoity voting step, followed by Besca SVM (comparable)."
   ]
  },
  {
   "cell_type": "markdown",
   "metadata": {},
   "source": [
    "## Conclusions"
   ]
  },
  {
   "cell_type": "markdown",
   "metadata": {},
   "source": [
    "In this notebook we challenged **some of the most valid classifiers compatible with Scanpy** in annotating the [PBMC3K dataset](https://scanpy.readthedocs.io/en/stable/generated/scanpy.datasets.pbmc3k.html) and we compared their perfomances with CIA ones. Here are summarized all the results:"
   ]
  },
  {
   "cell_type": "markdown",
   "metadata": {},
   "source": [
    "- Overall the **classifiers allowing cell-level annotation were able to correctly predict the identity of the majority of cells**, indicating that it's possible to accurately annotate the datasets without the arbitrariety which characterizes the clustering-driven manual annotation. Among them, **CIA resulted to be the best at cell-level annotation**. \n",
    "- **The winning approach** of this challenge **is cell-level automatic annotation followed by** over-clustering and **majority voting**. With this approach, clustering with very high resolution is performed only after cell-level classification. **When clustering is used to refine** an already accurate automatic labelling (and so less influenced by analysts arbitrary decisions), instead of completely drive the annotation, it **results to be an effective way to integrate** the contributions of **marker genes expression with** the more general concept of **transcriptional similarity** in defining cell identity. Also with this approach **CIA obtained the best results**."
   ]
  },
  {
   "cell_type": "markdown",
   "metadata": {},
   "source": [
    "#### Clasiffication Performances"
   ]
  },
  {
   "cell_type": "code",
   "execution_count": null,
   "metadata": {},
   "outputs": [],
   "source": [
    "columns=['Prediction fast mode','Prediction p-val','Prediction q', 'Prediction standard mode',\n",
    "         'Prediction celltypist', 'Prediction besca LR','Prediction besca SVM']"
   ]
  },
  {
   "cell_type": "code",
   "execution_count": null,
   "metadata": {},
   "outputs": [],
   "source": [
    "report.classification_metrics(pbmc3k, classification_obs=columns, groups_obs='Cell type')"
   ]
  },
  {
   "cell_type": "markdown",
   "metadata": {},
   "source": [
    "#### Clasiffication Performances - Majority Voting"
   ]
  },
  {
   "cell_type": "code",
   "execution_count": null,
   "metadata": {},
   "outputs": [],
   "source": [
    "columns_majority=[ 'Prediction fast mode majority voting','Prediction p-val majority voting',\n",
    "                  'Prediction q majority voting', 'Prediction standard mode majority voting', \n",
    "                  'Prediction celltypist majority voting', \n",
    "                  'Prediction besca LR majority voting','Prediction besca SVM majority voting']"
   ]
  },
  {
   "cell_type": "code",
   "execution_count": null,
   "metadata": {},
   "outputs": [],
   "source": [
    "report.classification_metrics(pbmc3k, classification_obs=columns_majority, groups_obs='Cell type')"
   ]
  },
  {
   "cell_type": "code",
   "execution_count": null,
   "metadata": {},
   "outputs": [],
   "source": [
    "pbmc3k.write('data/pbmc3k_classified.h5ad')"
   ]
  }
 ],
 "metadata": {
  "kernelspec": {
   "display_name": "Python 3",
   "language": "python",
   "name": "python3"
  },
  "language_info": {
   "codemirror_mode": {
    "name": "ipython",
    "version": 3
   },
   "file_extension": ".py",
   "mimetype": "text/x-python",
   "name": "python",
   "nbconvert_exporter": "python",
   "pygments_lexer": "ipython3",
   "version": "3.6.9"
  }
 },
 "nbformat": 4,
 "nbformat_minor": 4
}
